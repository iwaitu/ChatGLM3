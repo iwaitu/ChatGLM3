{
 "cells": [
  {
   "cell_type": "code",
   "execution_count": 4,
   "metadata": {},
   "outputs": [
    {
     "name": "stdout",
     "output_type": "stream",
     "text": [
      "JSONL file saved to train_cn_data.jsonl\n"
     ]
    }
   ],
   "source": [
    "import json\n",
    "\n",
    "# 读取 JSON 文件\n",
    "def read_json_file(file_path):\n",
    "    with open(file_path, 'r', encoding='utf-8') as file:\n",
    "        return json.load(file)\n",
    "\n",
    "# 将对象数组转换为 JSONL 格式\n",
    "def convert_to_jsonl(json_objects, output_file_path):\n",
    "    with open(output_file_path, 'w', encoding='utf-8') as file:\n",
    "        for obj in json_objects:\n",
    "            jsonl_line = json.dumps(obj)\n",
    "            file.write(jsonl_line + '\\n')\n",
    "\n",
    "def convert_to_jsonl_ex(json_objects, output_file_path):\n",
    "    with open(output_file_path, 'w', encoding='utf-8') as file:\n",
    "        for obj in json_objects:\n",
    "            jsonl_line = json.dumps(obj,ensure_ascii=False)\n",
    "            file.write(jsonl_line + '\\n')\n",
    "\n",
    "input_file_path = 'train_cn_data.json'  # 替换为你的 JSON 文件路径\n",
    "output_file_path = 'train_cn_data.jsonl'  # 输出 JSONL 文件的路径\n",
    "\n",
    "json_data = read_json_file(input_file_path)\n",
    "convert_to_jsonl_ex(json_data, output_file_path)\n",
    "print(f'JSONL file saved to {output_file_path}')\n",
    "    "
   ]
  }
 ],
 "metadata": {
  "kernelspec": {
   "display_name": "chatglm",
   "language": "python",
   "name": "python3"
  },
  "language_info": {
   "codemirror_mode": {
    "name": "ipython",
    "version": 3
   },
   "file_extension": ".py",
   "mimetype": "text/x-python",
   "name": "python",
   "nbconvert_exporter": "python",
   "pygments_lexer": "ipython3",
   "version": "3.10.12"
  }
 },
 "nbformat": 4,
 "nbformat_minor": 2
}
